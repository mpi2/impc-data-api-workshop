{
 "cells": [
  {
   "cell_type": "markdown",
   "metadata": {
    "id": "tFsFxaeMY425"
   },
   "source": [
    "# Exercises for the IMPC API Online Tutorial\n",
    "Before starting the exercises, rerun the cells below. This will import the necessary libraries\n",
    "\n",
    "To complete the exercises, use the provided function templates. The exercises will build step-by-step on top of each other.\n",
    "\n",
    "You can check your answer by opening the correct answer on the tutorial page."
   ]
  },
  {
   "cell_type": "code",
   "execution_count": null,
   "metadata": {
    "id": "nHBSTye4wMo8"
   },
   "outputs": [],
   "source": [
    "# Import Python package.\n",
    "from impc_api import solr_request, batch_solr_request"
   ]
  },
  {
   "cell_type": "markdown",
   "metadata": {
    "id": "c6_yJ4lsatMD"
   },
   "source": [
    "# Exercise 1: Getting Familiar with the Core\n",
    "We will be working with the `genotype-phenotype` core. To familiarise yourself with the data, request everything from this core using the solr_request function and the `q` parameter."
   ]
  },
  {
   "cell_type": "code",
   "execution_count": null,
   "metadata": {
    "id": "bfPZEv211EZJ"
   },
   "outputs": [],
   "source": [
    "# Modify the function below to do the exercise.\n",
    "num_found, df = solr_request(\n",
    "    ...\n",
    ")"
   ]
  },
  {
   "cell_type": "markdown",
   "metadata": {
    "id": "EaMr5IVtdHG6"
   },
   "source": [
    "# Exercise 2: Requesting Three Documents\n",
    "Let's try using the `rows` parameter. Request three documents from the `genotype-phenotype` core. You can modify the query from the previous exercise."
   ]
  },
  {
   "cell_type": "code",
   "execution_count": null,
   "metadata": {
    "cellView": "form",
    "id": "pVRisCTOfsJj"
   },
   "outputs": [],
   "source": [
    "# Modify the function below to do the exercise.\n",
    "num_found, df = solr_request(\n",
    "    core='genotype-phenotype',\n",
    "    ...\n",
    ")"
   ]
  },
  {
   "cell_type": "markdown",
   "metadata": {
    "id": "2A8VZLLXfxXO"
   },
   "source": [
    "# Exercise 3: Selecting Specific Fields\n",
    "As you can see, there are many fields. To focus on the ones we need, request only the following:\n",
    "\n",
    "* marker_symbol\n",
    "* marker_accession_id\n",
    "* parameter_name\n",
    "* parameter_stable_id\n",
    "* p_value\n",
    "* zygosity\n",
    "\n",
    "Modify query from the Exercise 2 to request limited list of the fields above. Here is the list of comma-separated fields: `marker_symbol,marker_accession_id,parameter_name,parameter_stable_id,p_value,zygosity`"
   ]
  },
  {
   "cell_type": "code",
   "execution_count": null,
   "metadata": {
    "cellView": "form",
    "id": "ftaU2p5JgVf3"
   },
   "outputs": [],
   "source": [
    "# Modify the function below to do the exercise.\n",
    "num_found, df = solr_request(\n",
    "    core='genotype-phenotype',\n",
    "    params={\n",
    "        'q': '*:*',\n",
    "        'rows': 3,\n",
    "        ...\n",
    "    }\n",
    ")"
   ]
  },
  {
   "cell_type": "markdown",
   "metadata": {
    "id": "EiYw-phBiHO7"
   },
   "source": [
    "# Exercise 4: Filtering by Single Field\n",
    "Let's now focus on a particular gene. In this example we will be using *Dclk1*. Filter the results so there only documents of this gene are displayed by modifying query from Exercise 3."
   ]
  },
  {
   "cell_type": "code",
   "execution_count": null,
   "metadata": {
    "cellView": "form",
    "id": "OTm4cjJZitnP"
   },
   "outputs": [],
   "source": [
    "# Modify the function below to do the exercise.\n",
    "num_found, df = solr_request(\n",
    "    core='genotype-phenotype',\n",
    "    params={\n",
    "        'q': '*:*',\n",
    "        'rows': 3,\n",
    "        'fl': 'marker_symbol,marker_accession_id,parameter_name,parameter_stable_id,p_value,zygosity'\n",
    "    }\n",
    ")"
   ]
  },
  {
   "cell_type": "markdown",
   "metadata": {
    "id": "87dnFUbUi8YM"
   },
   "source": [
    "# Exercise 5: Changing P-Value Threshold\n",
    "Let's apply more strict p-value threshold, so that it is less than 1e-4. Modify query from the Exercise 3.\n",
    "\n",
    "**Note:** Sometimes spelling may differ.\n",
    "e.g. `p_value` is the name of the field in Solr, whereas \"p-value\" is the term used in real life."
   ]
  },
  {
   "cell_type": "code",
   "execution_count": null,
   "metadata": {
    "cellView": "form",
    "id": "7SNppuymi7tU"
   },
   "outputs": [],
   "source": [
    "# Modify the function below to do the exercise.\n",
    "num_found, df = solr_request(\n",
    "    core='genotype-phenotype',\n",
    "    params={\n",
    "        'q': '*:*',\n",
    "        'rows': 3,\n",
    "        'fl': 'marker_symbol,marker_accession_id,parameter_name,parameter_stable_id,p_value,zygosity'\n",
    "    }\n",
    ")"
   ]
  },
  {
   "cell_type": "markdown",
   "metadata": {
    "id": "_2mJ7jq-kKZ3"
   },
   "source": [
    "# Exercise 6: Applying Multiple Filters\n",
    "Let's combine two filters from Exercise 4 and Exercise 5: `marker_symbol` and more strict p-value threshold, so that it is less than 1e-4."
   ]
  },
  {
   "cell_type": "code",
   "execution_count": null,
   "metadata": {
    "cellView": "form",
    "id": "PMDI368Dk157"
   },
   "outputs": [],
   "source": [
    "# Modify the function below to do the exercise.\n",
    "num_found, df = solr_request(\n",
    "    core='genotype-phenotype',\n",
    "    params={\n",
    "        'q': '*:*',\n",
    "        'rows': 3,\n",
    "        'fl': 'marker_symbol,marker_accession_id,parameter_name,parameter_stable_id,p_value,zygosity'\n",
    "    }\n",
    ")"
   ]
  },
  {
   "cell_type": "markdown",
   "metadata": {
    "id": "8aoQwDuRk7z1"
   },
   "source": [
    "# Exercise 7: Explore Null Values\n",
    "Run the query below and answer the questions: how many fields will be in the generated dataset? Why?"
   ]
  },
  {
   "cell_type": "code",
   "execution_count": null,
   "metadata": {
    "colab": {
     "base_uri": "https://localhost:8080/",
     "height": 271
    },
    "id": "wAHHtICok7bw",
    "outputId": "c68a8d13-fafe-4c70-b902-f9b07471e360"
   },
   "outputs": [],
   "source": [
    "num_found, df = solr_request(\n",
    "    core='statistical-result',\n",
    "    params={\n",
    "        'q': 'NOT mp_term_name:[* TO *]',\n",
    "        'fl': 'marker_symbol,effect_size,p_value,mp_term_name',\n",
    "        'rows': 3\n",
    "    }\n",
    ")"
   ]
  },
  {
   "cell_type": "markdown",
   "metadata": {
    "id": "kQTRjtzonEzN"
   },
   "source": [
    "# Exercise 8: Download the Data\n",
    "We have an example of a query using the `solr_request` function below. Download this data using the `batch_solr_request` function in JSON format."
   ]
  },
  {
   "cell_type": "code",
   "execution_count": null,
   "metadata": {
    "id": "Cnyet4IAoKKP"
   },
   "outputs": [],
   "source": [
    "# Example query.\n",
    "num_found, df = solr_request(\n",
    "    core='genotype-phenotype',\n",
    "    params={\n",
    "        'q': 'marker_symbol:Xrcc5',\n",
    "        'fl': 'marker_symbol,marker_accession_id,parameter_name,parameter_stable_id,p_value,zygosity',\n",
    "        'rows': 3\n",
    "    }\n",
    ")"
   ]
  },
  {
   "cell_type": "markdown",
   "metadata": {
    "id": "1N0z7Qh0rfbE"
   },
   "source": [
    "# Exercise 9: Facet Request\n",
    "Run the cell below and take a look at the output. How many categories are there?"
   ]
  },
  {
   "cell_type": "code",
   "execution_count": null,
   "metadata": {
    "colab": {
     "base_uri": "https://localhost:8080/",
     "height": 271
    },
    "id": "Ovb6n8FIruPr",
    "outputId": "2cb95484-57d9-411c-b708-311160736d39"
   },
   "outputs": [],
   "source": [
    "num_found, df = solr_request(\n",
    "    core='genotype-phenotype',\n",
    "    params={\n",
    "         \"q\": \"*:*\",\n",
    "         \"rows\": 0,\n",
    "         \"facet\": \"on\",\n",
    "         \"facet.field\": \"zygosity\",\n",
    "         \"facet.limit\": 15,\n",
    "         \"facet.mincount\": 1,\n",
    "    }\n",
    ")"
   ]
  },
  {
   "cell_type": "markdown",
   "metadata": {
    "id": "HkUao6risb0Q"
   },
   "source": [
    "# Exercise 10: Iterate Over Genes\n",
    "You have a list of genes. Run the script below and observe the result."
   ]
  },
  {
   "cell_type": "code",
   "execution_count": null,
   "metadata": {
    "colab": {
     "base_uri": "https://localhost:8080/",
     "height": 477
    },
    "id": "UewKytCnsbdM",
    "outputId": "8b6ceb2a-d5c5-4892-d596-0866eca9c4ee"
   },
   "outputs": [],
   "source": [
    "# Write genes to the Python list.\n",
    "genes = ['Prkdc', 'Xrcc5', 'Xrcc4', 'Wrn']\n",
    "\n",
    "# Iterate over list of genes.\n",
    "df = batch_solr_request(\n",
    "    core='genotype-phenotype',\n",
    "    params={\n",
    "        'q':'*:*',\n",
    "        'fl': 'marker_symbol,mp_term_name,p_value',\n",
    "        'field_list': genes,\n",
    "        'field_type': 'marker_symbol'\n",
    "    },\n",
    "    download = False\n",
    ")\n",
    "\n",
    "display(df)"
   ]
  }
 ],
 "metadata": {
  "colab": {
   "provenance": []
  },
  "kernelspec": {
   "display_name": "Python 3 (ipykernel)",
   "language": "python",
   "name": "python3"
  },
  "language_info": {
   "codemirror_mode": {
    "name": "ipython",
    "version": 3
   },
   "file_extension": ".py",
   "mimetype": "text/x-python",
   "name": "python",
   "nbconvert_exporter": "python",
   "pygments_lexer": "ipython3",
   "version": "3.12.4"
  }
 },
 "nbformat": 4,
 "nbformat_minor": 4
}
